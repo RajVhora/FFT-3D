{
 "cells": [
  {
   "cell_type": "code",
   "execution_count": null,
   "metadata": {},
   "outputs": [],
   "source": [
    "import os\n",
    "import pandas as pd\n",
    "import numpy as np\n",
    "import matplotlib.pyplot as plt\n",
    "\n",
    "# Read the file stress_at_time0.dat\n",
    "stress_at_time0 = pd.read_csv(\"output/data/stress_at_time0.dat\", sep = \" \", header = None)\n",
    "\n",
    "# rename Columns\n",
    "stress_at_time0.columns = [\"x\", \"y\", \"z\", \"s11\", \"s22\", \"s12\", \"s13\", \"s33\", \"s23\"]"
   ]
  },
  {
   "cell_type": "code",
   "execution_count": null,
   "metadata": {},
   "outputs": [],
   "source": [
    "stress_at_time0"
   ]
  },
  {
   "cell_type": "code",
   "execution_count": null,
   "metadata": {},
   "outputs": [],
   "source": [
    "# filter the data for y = 0 and z = 0\n",
    "stress_at_time0 = stress_at_time0[(stress_at_time0.y == 0) & (stress_at_time0.z == 0)]\n",
    "\n",
    "# Plot the stress in x direction\n",
    "plt.plot(stress_at_time0.x, stress_at_time0.s11)\n",
    "plt.xlabel(\"x\")\n",
    "plt.ylabel(\"s11\")\n",
    "plt.show()"
   ]
  }
 ],
 "metadata": {
  "kernelspec": {
   "display_name": "Python 3",
   "language": "python",
   "name": "python3"
  },
  "language_info": {
   "codemirror_mode": {
    "name": "ipython",
    "version": 3
   },
   "file_extension": ".py",
   "mimetype": "text/x-python",
   "name": "python",
   "nbconvert_exporter": "python",
   "pygments_lexer": "ipython3",
   "version": "3.8.10"
  },
  "orig_nbformat": 4,
  "vscode": {
   "interpreter": {
    "hash": "e7370f93d1d0cde622a1f8e1c04877d8463912d04d973331ad4851f04de6915a"
   }
  }
 },
 "nbformat": 4,
 "nbformat_minor": 2
}
